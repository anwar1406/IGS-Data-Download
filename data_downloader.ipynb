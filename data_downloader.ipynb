{
  "nbformat": 4,
  "nbformat_minor": 0,
  "metadata": {
    "colab": {
      "provenance": [],
      "authorship_tag": "ABX9TyNaEWh50sfmHTBrZVOpV9r+",
      "include_colab_link": true
    },
    "kernelspec": {
      "name": "python3",
      "display_name": "Python 3"
    },
    "language_info": {
      "name": "python"
    }
  },
  "cells": [
    {
      "cell_type": "markdown",
      "metadata": {
        "id": "view-in-github",
        "colab_type": "text"
      },
      "source": [
        "<a href=\"https://colab.research.google.com/github/anwar1406/IGS-Data-Download/blob/main/data_downloader.ipynb\" target=\"_parent\"><img src=\"https://colab.research.google.com/assets/colab-badge.svg\" alt=\"Open In Colab\"/></a>"
      ]
    },
    {
      "cell_type": "markdown",
      "source": [
        "This module provides utilities to  download IGS station data files\n",
        "(e.g., observation and navigation files) from the specified FTP server"
      ],
      "metadata": {
        "id": "QFpPwAZuevfg"
      }
    },
    {
      "cell_type": "code",
      "source": [
        "#import modules\n",
        "import os\n",
        "import shutil\n",
        "import urllib.request\n",
        "from datetime import datetime, timedelta\n",
        "from contextlib import closing\n",
        "from urllib.request import URLError"
      ],
      "metadata": {
        "id": "8XvNkBunSGyb"
      },
      "execution_count": 5,
      "outputs": []
    },
    {
      "cell_type": "code",
      "source": [
        "__all__ = [\"gps_week\", \"igs_station_data\"]\n",
        "\n",
        "def gps_week(day_of_year, year):\n",
        "    \"\"\"\n",
        "    Convert day of year and year to GPS week.\n",
        "\n",
        "    Parameters\n",
        "    ----------\n",
        "    day_of_year : int\n",
        "        Day of the year (1-365 or 1-366 for leap years).\n",
        "    year : int\n",
        "        The year (e.g., 2023).\n",
        "\n",
        "    Returns\n",
        "    -------\n",
        "    int\n",
        "        The corresponding GPS week number.\n",
        "    \"\"\"\n",
        "    gps_epoch = datetime(1980, 1, 6)\n",
        "\n",
        "    # Convert year and day of year to a date\n",
        "    target_date = datetime(year, 1, 1) + timedelta(days=day_of_year - 1)\n",
        "\n",
        "    # Calculate difference in days from GPS epoch\n",
        "    days_since_epoch = (target_date - gps_epoch).days\n",
        "\n",
        "    # Calculate GPS week\n",
        "    return days_since_epoch // 7\n",
        "\n",
        "def igs_station_data(station_name, doy_i, doy_f, year, country_name=\"IND\", file_path=\"\"):\n",
        "    \"\"\"\n",
        "    Download IGS station data (observation and navigation files) for a given station and date range.\n",
        "\n",
        "    Parameters\n",
        "    ----------\n",
        "    station_name : str\n",
        "        Name of the GNSS station (e.g., \"IISC\").\n",
        "    doy_i : int\n",
        "        Start day of the year (DOY).\n",
        "    doy_f : int\n",
        "        End day of the year (DOY).\n",
        "    year : int\n",
        "        The year of the data (e.g., 2023).\n",
        "    country_name : str, optional\n",
        "        Country code (e.g., \"IND\" for India). Default is \"IND\".\n",
        "    file_path : str, optional\n",
        "        Directory to save the downloaded files. Default is the current directory.\n",
        "\n",
        "    Returns\n",
        "    -------\n",
        "    None\n",
        "        Downloads the files to the specified directory.\n",
        "    \"\"\"\n",
        "    base_url = r\"ftp://gssc.esa.int/gnss/data/daily/\"\n",
        "\n",
        "    for i in range(doy_i, doy_f + 1):  # Include `doy_f`\n",
        "        day_of_year = f\"{i:03}\"  # Zero-padded day of year\n",
        "        path = f\"{base_url}{year}/{day_of_year}/\"\n",
        "\n",
        "        # File names\n",
        "        file_MO = f\"{station_name}00{country_name}_R_{year}{day_of_year}0000_01D_30S_MO.crx.sum.gz\"\n",
        "        file_MN = f\"{station_name}00{country_name}_R_{year}{day_of_year}0000_01D_MN.rnx.gz\"\n",
        "\n",
        "        # Download observation file\n",
        "        try:\n",
        "            with closing(urllib.request.urlopen(path + file_MO)) as r:\n",
        "                save_path = os.path.join(file_path, file_MO) if file_path else file_MO\n",
        "                with open(save_path, 'wb') as f:\n",
        "                    shutil.copyfileobj(r, f)\n",
        "                    print(f\"Observation file for DOY {i} has been downloaded\")\n",
        "        except URLError:\n",
        "            print(f\"Observation file for DOY {i} is missing\")\n",
        "\n",
        "        # Download navigation file\n",
        "        try:\n",
        "            with closing(urllib.request.urlopen(path + file_MN)) as r:\n",
        "                save_path = os.path.join(file_path, file_MN) if file_path else file_MN\n",
        "                with open(save_path, 'wb') as f:\n",
        "                    shutil.copyfileobj(r, f)\n",
        "                    print(f\"Navigation file for DOY {i} has been downloaded\")\n",
        "        except URLError:\n",
        "            print(f\"Navigation file for DOY {i} is missing\")\n",
        "\n"
      ],
      "metadata": {
        "id": "qCu-ydncSK6L"
      },
      "execution_count": 6,
      "outputs": []
    },
    {
      "cell_type": "markdown",
      "source": [
        "**Example usage of igs_station_data function**"
      ],
      "metadata": {
        "id": "C1soUHO2fHUs"
      }
    },
    {
      "cell_type": "code",
      "source": [
        "# Example usage of igs_station_data function\n",
        "if __name__ == \"__main__\":\n",
        "\n",
        "\n",
        "    # Parameters\n",
        "    station_name = \"IISC\"        # Station name (e.g., \"IISC\")\n",
        "    doy_i = 152                  # Start day of the year (DOY)\n",
        "    doy_f = 156                  # End day of the year (DOY)\n",
        "    year = 2023                  # Year of the data\n",
        "    country_name = \"IND\"         # Country code (e.g., \"IND\" for India)\n",
        "    file_path = r\"D:Lab2\\Data\"  # Directory to save the files (ensure it exists)\n",
        "\n",
        "    # Create the directory if it does not exist\n",
        "    os.makedirs(file_path, exist_ok=True)\n",
        "\n",
        "    # Call the function\n",
        "    igs_station_data(\n",
        "        station_name=station_name,\n",
        "        doy_i=doy_i,\n",
        "        doy_f=doy_f,\n",
        "        year=year,\n",
        "        country_name=country_name,\n",
        "        file_path=file_path\n",
        "    )"
      ],
      "metadata": {
        "id": "EjR-NJtzSUdh"
      },
      "execution_count": null,
      "outputs": []
    }
  ]
}